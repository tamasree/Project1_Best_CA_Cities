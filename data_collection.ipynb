{
 "cells": [
  {
   "cell_type": "code",
   "execution_count": 1,
   "id": "0c256207",
   "metadata": {},
   "outputs": [],
   "source": [
    "# Dependencies and Setup\n",
    "import pandas as pd\n",
    "import matplotlib.pyplot as plt\n",
    "import seaborn as sns\n",
    "import numpy as np\n",
    "from matplotlib import rcParams\n",
    "import scipy.stats as sts\n",
    "import os\n",
    "from collections import Counter\n",
    "import requests\n",
    "import json\n",
    "from census import Census\n",
    "from uszipcode import SearchEngine\n",
    "\n",
    "# API Key\n",
    "from api_keys import census_key"
   ]
  },
  {
   "cell_type": "markdown",
   "id": "4c9db860",
   "metadata": {},
   "source": [
    "## Using Census API to get data for different US zip codes "
   ]
  },
  {
   "cell_type": "code",
   "execution_count": null,
   "id": "08587beb",
   "metadata": {},
   "outputs": [],
   "source": [
    "#Recording different year census data\n",
    "all_census=[]\n",
    "for i in [2012,2014,2015,2017,2019]:\n",
    "    c = Census(census_key, year=i)\n",
    "    census_data = c.acs5.get((\"NAME\", \"B19013_001E\", \"B02001_002E\",\"B02001_003E\",\n",
    "                           \"B03001_003E\",\"B02001_005E\",\"B01003_001E\", \"B01002_001E\",\n",
    "                          \"B19301_001E\",\"B17001_002E\",\"B23025_005E\",\"B25077_001E\",\"B08136_003E\",\n",
    "                          \"B25035_001E\",\"B25088_002E\",\"B25064_001E\",\"B08301_001E\",\n",
    "                          \"B08301_010E\",\"B08301_003E\",\"B08136_007E\",\"B15003_017E\",\n",
    "                          \"B15003_022E\",\"B15003_002E\",\"B16001_002E\",\"B16001_003E\"),\n",
    "                          {'for': 'zip code tabulation area:*'})\n",
    "\n",
    "    # Convert to DataFrame\n",
    "    census_df = pd.DataFrame(census_data)\n",
    "\n",
    "    # Column Reordering\n",
    "    census_df = census_df.rename(columns={\"B01003_001E\": \"Population\",\n",
    "                                      \"B02001_002E\":\"Population White\",\n",
    "                                      \"B02001_003E\": \"Population Black\",\n",
    "                                      \"B03001_003E\": \"Population Hispanic\",\n",
    "                                      \"B02001_005E\": \"Population Asian\",\n",
    "                                      \"B01002_001E\": \"Median Age\",\n",
    "                                      \"B19013_001E\": \"Household Income\",\n",
    "                                      \"B19301_001E\": \"Per Capita Income\",\n",
    "                                      \"B17001_002E\": \"Poverty Count\",\n",
    "                                      \"B23025_005E\": \"Unemployment Count\",\n",
    "                                      \"B25077_001E\":\"House Value\",\n",
    "                                      \"B25035_001E\": \"House Construction Year\",\n",
    "                                      \"B25088_002E\":\"Monthly Owner Cost\",\n",
    "                                      \"B25064_001E\":\"Monthly Rent\",\n",
    "                                      \"B08301_001E\":\"Total Transport\",\n",
    "                                      \"B08301_010E\":\"Public Transport\",\n",
    "                                      \"B08301_003E\":\"Personal Transport\",\n",
    "                                      \"B08136_007E\":\"Commute Time Public\",\n",
    "                                      \"B08136_003E\":\"Commute Time Car\",\n",
    "                                      \"B15003_017E\":\"High School Count\",\n",
    "                                      \"B15003_022E\":\"College Count\",\n",
    "                                      \"B15003_002E\":\"Uneducated Count\",\n",
    "                                      \"B16001_002E\":\"English Language\",\n",
    "                                      \"B16001_003E\":\"Spanish Language\",\n",
    "                                      \"NAME\": \"Name\", \"zip code tabulation area\": \"Zipcode\"})\n",
    "\n",
    "    # Add in Poverty Rate (Poverty Count / Population)\n",
    "    census_df[\"Poverty Rate\"] = (100 * \n",
    "                census_df[\"Poverty Count\"].astype(\n",
    "                    int) / census_df[\"Population\"].astype(int))\n",
    "\n",
    "    # Add in Employment Rate (Employment Count / Population)\n",
    "    census_df[\"Unemployment Rate\"] = (100 * \n",
    "                census_df[\"Unemployment Count\"].astype(\n",
    "                    int) / census_df[\"Population\"].astype(int))\n",
    "\n",
    "    # Add in High school education Rate (High School Count / Population)\n",
    "    census_df[\"High School Rate\"] = (100 * \n",
    "                census_df[\"High School Count\"].astype(\n",
    "                    int) / census_df[\"Population\"].astype(int))\n",
    "\n",
    "    # Add in College Education Rate (College Count / Population)\n",
    "    census_df[\"College Rate\"] = (100 * \n",
    "                census_df[\"College Count\"].astype(\n",
    "                    int) / census_df[\"Population\"].astype(int))\n",
    "\n",
    "    # Add in Uneducated Rate (uneducated Count / Population)\n",
    "    census_df[\"Uneducated Rate\"] = (100 * \n",
    "                census_df[\"Uneducated Count\"].astype(\n",
    "                    int) / census_df[\"Population\"].astype(int))\n",
    "\n",
    "    # Add in Public Transport Rate (Public Transport / Total Transportation)\n",
    "    census_df[\"Public Transport Rate\"] = (100 * \n",
    "                census_df[\"Public Transport\"].astype(\n",
    "                    int) / census_df[\"Total Transport\"].astype(int))\n",
    "\n",
    "    # Add in Personal Transport Rate (Personal Transport  / Total transportation)\n",
    "    census_df[\"Personal Transport Rate\"] = (100 * \n",
    "                census_df[\"Personal Transport\"].astype(\n",
    "                    int) / census_df[\"Total Transport\"].astype(int))\n",
    "    \n",
    "    # Add in English Language Rate\n",
    "    #census_df[\"English Language Rate\"] = (100 * \n",
    "                #census_df[\"English Language\"].astype(\n",
    "                    #int) / census_df[\"Population\"].astype(int))\n",
    "    # Add in Spanish Language Rate\n",
    "    #census_df[\"Spanish Language Rate\"] = (100 * \n",
    "                #census_df[\"Spanish Language\"].astype(\n",
    "                    #int) / census_df[\"Population\"].astype(int))\n",
    "\n",
    "    # Add in White Population Rate\n",
    "    census_df[\"White Population Rate\"] = (100 * \n",
    "                census_df[\"Population White\"].astype(\n",
    "                    int) / census_df[\"Population\"].astype(int))\n",
    "\n",
    "    # Add in Black Population Rate\n",
    "    census_df[\"Black Population Rate\"] = (100 * \n",
    "                census_df[\"Population Black\"].astype(\n",
    "                    int) / census_df[\"Population\"].astype(int))\n",
    "\n",
    "    # Add in Hispanic Population Rate (Population Hispanic / Total Population)\n",
    "    census_df[\"Hispanic Population Rate\"] = (100 * \n",
    "                census_df[\"Population Hispanic\"].astype(\n",
    "                    int) / census_df[\"Population\"].astype(int))\n",
    "\n",
    "    # Add in Asian Population Rate (Population Asian  / Total population)\n",
    "    census_df[\"Asian Population Rate\"] = (100 * \n",
    "                census_df[\"Population Asian\"].astype(\n",
    "                    int) / census_df[\"Population\"].astype(int))\n",
    "\n",
    "    # Final DataFrame\n",
    "    census_df = census_df[[\"Zipcode\", \"Population\", \"Median Age\", \"Household Income\",\n",
    "                       \"Per Capita Income\", \"Poverty Rate\", \n",
    "                       \"Unemployment Rate\", \"House Value\",\"House Construction Year\",\n",
    "                      \"Monthly Owner Cost\", \"Monthly Rent\",\"Public Transport Rate\",\n",
    "                      \"Personal Transport Rate\",\"Commute Time Public\",\"Commute Time Car\",\n",
    "                    \"High School Rate\",\"College Rate\",\"Uneducated Rate\", 'English Language',#\"English Language Rate\",\n",
    "                      \"Spanish Language\",\"White Population Rate\",\"Black Population Rate\",\n",
    "                      \"Hispanic Population Rate\",\"Asian Population Rate\"]]\n",
    "    #appending dataframe to all census list\n",
    "    all_census.append(census_df)"
   ]
  },
  {
   "cell_type": "markdown",
   "id": "b5c941a9",
   "metadata": {},
   "source": [
    "### Saving the census with 33000 rows and 28 columns data in csv for 5 different years"
   ]
  },
  {
   "cell_type": "code",
   "execution_count": null,
   "id": "8a58d952",
   "metadata": {},
   "outputs": [],
   "source": [
    "# Save different years data as a csv \n",
    "for i,census in zip([2012,2014,2015,2017,2019],all_census):\n",
    "    census.to_csv(f\"output_census/census_data_{i}.csv\", encoding=\"utf-8\", index=False)"
   ]
  },
  {
   "cell_type": "code",
   "execution_count": null,
   "id": "ba73be64",
   "metadata": {},
   "outputs": [],
   "source": []
  },
  {
   "cell_type": "markdown",
   "id": "0335a23c",
   "metadata": {},
   "source": [
    "### Reading US census csv data for different years "
   ]
  },
  {
   "cell_type": "markdown",
   "id": "d0a03dae",
   "metadata": {},
   "source": [
    "## 2012 data"
   ]
  },
  {
   "cell_type": "code",
   "execution_count": 2,
   "id": "7370e071",
   "metadata": {},
   "outputs": [],
   "source": [
    "#reading 2012 census data\n",
    "path_2012=os.path.join('output_census', 'census_data_2012.csv')\n",
    "census_2012=pd.read_csv(path_2012)"
   ]
  },
  {
   "cell_type": "code",
   "execution_count": 3,
   "id": "b1b6339a",
   "metadata": {},
   "outputs": [],
   "source": [
    "#Adding new city, county, lat, lng, housing units columns  to census 2012\n",
    "census_2012[\"City\"]=''\n",
    "census_2012[\"County\"]=''\n",
    "census_2012['Lat']=''\n",
    "census_2012['Lng']=''\n",
    "census_2012['Housing_units']=''\n",
    "census_2012['State']=''\n",
    "for index, row in census_2012.iterrows():\n",
    "\n",
    "    # get zipcode type from df\n",
    "    zipcode = int(row['Zipcode'])\n",
    "    #Searching by zipcode\n",
    "    search = SearchEngine()\n",
    "    results = search.by_zipcode(str(zipcode))\n",
    "    #adding to City columns\n",
    "    try:\n",
    "        census_2012.loc[index, 'City'] = results.city\n",
    "        census_2012.loc[index, 'County'] = results.county\n",
    "        census_2012.loc[index, 'Lat'] = results.lat\n",
    "        census_2012.loc[index, 'Lng'] = results.lng\n",
    "        census_2012.loc[index, 'Housing_units'] = results.housing_units\n",
    "        census_2012.loc[index, 'State'] = results.state\n",
    "    except (KeyError, IndexError):\n",
    "        print(\"Missing field/result for... skipping.\")"
   ]
  },
  {
   "cell_type": "code",
   "execution_count": 4,
   "id": "086f2e7a",
   "metadata": {},
   "outputs": [],
   "source": [
    "#making a csv file for the added columns\n",
    "census_2012.to_csv(\"output_census/census_comb_2012.csv\", encoding=\"utf-8\", index=False)"
   ]
  },
  {
   "cell_type": "code",
   "execution_count": 5,
   "id": "1daacd61",
   "metadata": {},
   "outputs": [],
   "source": [
    "#reading combined 2012 census data\n",
    "path_comb_2012=os.path.join('output_census', 'census_comb_2012.csv')\n",
    "census_comb_2012=pd.read_csv(path_comb_2012)"
   ]
  },
  {
   "cell_type": "code",
   "execution_count": 6,
   "id": "5ea2b221",
   "metadata": {},
   "outputs": [],
   "source": [
    "#creating census data for california only\n",
    "census_ca_2012=census_comb_2012[census_comb_2012['State']=='CA']\n",
    "census_ca_2012.to_csv(\"output_census/census_ca_2012.csv\", encoding=\"utf-8\", index=False)"
   ]
  },
  {
   "cell_type": "code",
   "execution_count": null,
   "id": "30e5c4b7",
   "metadata": {},
   "outputs": [],
   "source": []
  },
  {
   "cell_type": "markdown",
   "id": "3085d27e",
   "metadata": {},
   "source": [
    "## 2014 data"
   ]
  },
  {
   "cell_type": "code",
   "execution_count": 7,
   "id": "5732a3e9",
   "metadata": {},
   "outputs": [],
   "source": [
    "#reading 2014 census data\n",
    "path_2014=os.path.join('output_census', 'census_data_2014.csv')\n",
    "census_2014=pd.read_csv(path_2014)"
   ]
  },
  {
   "cell_type": "code",
   "execution_count": 8,
   "id": "594fbb40",
   "metadata": {},
   "outputs": [],
   "source": [
    "\n",
    "#Adding new city, county, lat, lng, housing units columns  to census 2014\n",
    "census_2014[\"City\"]=''\n",
    "census_2014[\"County\"]=''\n",
    "census_2014['Lat']=''\n",
    "census_2014['Lng']=''\n",
    "census_2014['Housing_units']=''\n",
    "census_2014['State']=''\n",
    "for index, row in census_2014.iterrows():\n",
    "\n",
    "    # get zipcode type from df\n",
    "    zipcode = int(row['Zipcode'])\n",
    "    #Searching by zipcode\n",
    "    search = SearchEngine()\n",
    "    results = search.by_zipcode(str(zipcode))\n",
    "    #adding to City columns\n",
    "    try:\n",
    "        census_2014.loc[index, 'City'] = results.city\n",
    "        census_2014.loc[index, 'County'] = results.county\n",
    "        census_2014.loc[index, 'Lat'] = results.lat\n",
    "        census_2014.loc[index, 'Lng'] = results.lng\n",
    "        census_2014.loc[index, 'Housing_units'] = results.housing_units\n",
    "        census_2014.loc[index, 'State'] = results.state\n",
    "    except (KeyError, IndexError):\n",
    "        print(\"Missing field/result for... skipping.\")"
   ]
  },
  {
   "cell_type": "code",
   "execution_count": 9,
   "id": "fa931509",
   "metadata": {},
   "outputs": [],
   "source": [
    "#making a csv file for the added columns\n",
    "census_2014.to_csv(\"output_census/census_comb_2014.csv\", encoding=\"utf-8\", index=False)"
   ]
  },
  {
   "cell_type": "code",
   "execution_count": 10,
   "id": "88ba97ea",
   "metadata": {},
   "outputs": [],
   "source": [
    "#reading 2014 census data\n",
    "path_comb_2014=os.path.join('output_census', 'census_comb_2014.csv')\n",
    "census_comb_2014=pd.read_csv(path_comb_2014)"
   ]
  },
  {
   "cell_type": "code",
   "execution_count": 11,
   "id": "68af1fad",
   "metadata": {},
   "outputs": [],
   "source": [
    "#creating census data for california only\n",
    "census_ca_2014=census_comb_2014[census_comb_2014['State']=='CA']\n",
    "#making a csv file for the CA census only\n",
    "census_ca_2014.to_csv(\"output_census/census_ca_2014.csv\", encoding=\"utf-8\", index=False)"
   ]
  },
  {
   "cell_type": "code",
   "execution_count": null,
   "id": "ef3b1a7a",
   "metadata": {},
   "outputs": [],
   "source": []
  },
  {
   "cell_type": "markdown",
   "id": "933dc11a",
   "metadata": {},
   "source": [
    "## 2015 data"
   ]
  },
  {
   "cell_type": "code",
   "execution_count": 12,
   "id": "aa8fbb2b",
   "metadata": {},
   "outputs": [],
   "source": [
    "#reading 2015 census data\n",
    "path_2015=os.path.join('output_census', 'census_data_2015.csv')\n",
    "census_2015=pd.read_csv(path_2015)"
   ]
  },
  {
   "cell_type": "code",
   "execution_count": 13,
   "id": "49ea925c",
   "metadata": {},
   "outputs": [],
   "source": [
    "\n",
    "#Adding new city, county, lat, lng, housing units columns  to census 2015\n",
    "census_2015[\"City\"]=''\n",
    "census_2015[\"County\"]=''\n",
    "census_2015['Lat']=''\n",
    "census_2015['Lng']=''\n",
    "census_2015['Housing_units']=''\n",
    "census_2015['State']=''\n",
    "for index, row in census_2015.iterrows():\n",
    "\n",
    "    # get zipcode type from df\n",
    "    zipcode = int(row['Zipcode'])\n",
    "    #Searching by zipcode\n",
    "    search = SearchEngine()\n",
    "    results = search.by_zipcode(str(zipcode))\n",
    "    #adding to City columns\n",
    "    try:\n",
    "        census_2015.loc[index, 'City'] = results.city\n",
    "        census_2015.loc[index, 'County'] = results.county\n",
    "        census_2015.loc[index, 'Lat'] = results.lat\n",
    "        census_2015.loc[index, 'Lng'] = results.lng\n",
    "        census_2015.loc[index, 'Housing_units'] = results.housing_units\n",
    "        census_2015.loc[index, 'State'] = results.state\n",
    "    except (KeyError, IndexError):\n",
    "        print(\"Missing field/result for... skipping.\")"
   ]
  },
  {
   "cell_type": "code",
   "execution_count": 14,
   "id": "29a3b937",
   "metadata": {},
   "outputs": [],
   "source": [
    "#making a csv file for the added columns\n",
    "census_2015.to_csv(\"output_census/census_comb_2015.csv\", encoding=\"utf-8\", index=False)"
   ]
  },
  {
   "cell_type": "code",
   "execution_count": 15,
   "id": "8096d3f3",
   "metadata": {},
   "outputs": [],
   "source": [
    "#reading 2015 census data\n",
    "path_comb_2015=os.path.join('output_census', 'census_comb_2015.csv')\n",
    "census_comb_2015=pd.read_csv(path_comb_2015)"
   ]
  },
  {
   "cell_type": "code",
   "execution_count": 16,
   "id": "1dd4deeb",
   "metadata": {},
   "outputs": [],
   "source": [
    "#creating census data for california only\n",
    "census_ca_2015=census_comb_2015[census_comb_2015['State']=='CA']\n",
    "#making a csv file for the CA census only\n",
    "census_ca_2015.to_csv(\"output_census/census_ca_2015.csv\", encoding=\"utf-8\", index=False)"
   ]
  },
  {
   "cell_type": "code",
   "execution_count": null,
   "id": "737a70f6",
   "metadata": {},
   "outputs": [],
   "source": []
  },
  {
   "cell_type": "markdown",
   "id": "14efd798",
   "metadata": {},
   "source": [
    "## 2017 data"
   ]
  },
  {
   "cell_type": "code",
   "execution_count": 17,
   "id": "4c06b21b",
   "metadata": {},
   "outputs": [],
   "source": [
    "#reading 2017 census data\n",
    "path_2017=os.path.join('output_census', 'census_data_2017.csv')\n",
    "census_2017=pd.read_csv(path_2017)"
   ]
  },
  {
   "cell_type": "code",
   "execution_count": 18,
   "id": "a33d616c",
   "metadata": {},
   "outputs": [],
   "source": [
    "\n",
    "#Adding new city, county, lat, lng, housing units columns  to census 2017\n",
    "census_2017[\"City\"]=''\n",
    "census_2017[\"County\"]=''\n",
    "census_2017['Lat']=''\n",
    "census_2017['Lng']=''\n",
    "census_2017['Housing_units']=''\n",
    "census_2017['State']=''\n",
    "for index, row in census_2017.iterrows():\n",
    "\n",
    "    # get zipcode type from df\n",
    "    zipcode = int(row['Zipcode'])\n",
    "    #Searching by zipcode\n",
    "    search = SearchEngine()\n",
    "    results = search.by_zipcode(str(zipcode))\n",
    "    #adding to City columns\n",
    "    try:\n",
    "        census_2017.loc[index, 'City'] = results.city\n",
    "        census_2017.loc[index, 'County'] = results.county\n",
    "        census_2017.loc[index, 'Lat'] = results.lat\n",
    "        census_2017.loc[index, 'Lng'] = results.lng\n",
    "        census_2017.loc[index, 'Housing_units'] = results.housing_units\n",
    "        census_2017.loc[index, 'State'] = results.state\n",
    "    except (KeyError, IndexError):\n",
    "        print(\"Missing field/result for... skipping.\")"
   ]
  },
  {
   "cell_type": "code",
   "execution_count": 19,
   "id": "8a5a4acb",
   "metadata": {},
   "outputs": [],
   "source": [
    "#making a csv file for the added columns\n",
    "census_2017.to_csv(\"output_census/census_comb_2017.csv\", encoding=\"utf-8\", index=False)"
   ]
  },
  {
   "cell_type": "code",
   "execution_count": 20,
   "id": "ca149b20",
   "metadata": {},
   "outputs": [],
   "source": [
    "#reading 2017 census data\n",
    "path_comb_2017=os.path.join('output_census', 'census_comb_2017.csv')\n",
    "census_comb_2017=pd.read_csv(path_comb_2017)"
   ]
  },
  {
   "cell_type": "code",
   "execution_count": 21,
   "id": "b479e704",
   "metadata": {},
   "outputs": [],
   "source": [
    "#creating census data for california only\n",
    "census_ca_2017=census_comb_2017[census_comb_2017['State']=='CA']\n",
    "#making a csv file for the CA census only\n",
    "census_ca_2017.to_csv(\"output_census/census_ca_2017.csv\", encoding=\"utf-8\", index=False)"
   ]
  },
  {
   "cell_type": "code",
   "execution_count": null,
   "id": "f9c32bcd",
   "metadata": {},
   "outputs": [],
   "source": []
  },
  {
   "cell_type": "markdown",
   "id": "941ab696",
   "metadata": {},
   "source": [
    "## 2019 data"
   ]
  },
  {
   "cell_type": "code",
   "execution_count": 22,
   "id": "7d8d44f1",
   "metadata": {},
   "outputs": [],
   "source": [
    "#reading 2019 census data\n",
    "path_2019=os.path.join('output_census', 'census_data_2019.csv')\n",
    "census_2019=pd.read_csv(path_2019)"
   ]
  },
  {
   "cell_type": "code",
   "execution_count": 23,
   "id": "82da2332",
   "metadata": {},
   "outputs": [],
   "source": [
    "\n",
    "#Adding new city, county, lat, lng, housing units columns  to census 2019\n",
    "census_2019[\"City\"]=''\n",
    "census_2019[\"County\"]=''\n",
    "census_2019['Lat']=''\n",
    "census_2019['Lng']=''\n",
    "census_2019['Housing_units']=''\n",
    "census_2019['State']=''\n",
    "for index, row in census_2019.iterrows():\n",
    "\n",
    "    # get zipcode type from df\n",
    "    zipcode = int(row['Zipcode'])\n",
    "    #Searching by zipcode\n",
    "    search = SearchEngine()\n",
    "    results = search.by_zipcode(str(zipcode))\n",
    "    #adding to City columns\n",
    "    try:\n",
    "        census_2019.loc[index, 'City'] = results.city\n",
    "        census_2019.loc[index, 'County'] = results.county\n",
    "        census_2019.loc[index, 'Lat'] = results.lat\n",
    "        census_2019.loc[index, 'Lng'] = results.lng\n",
    "        census_2019.loc[index, 'Housing_units'] = results.housing_units\n",
    "        census_2019.loc[index, 'State'] = results.state\n",
    "    except (KeyError, IndexError):\n",
    "        print(\"Missing field/result for... skipping.\")"
   ]
  },
  {
   "cell_type": "code",
   "execution_count": 24,
   "id": "5edb5a4b",
   "metadata": {},
   "outputs": [],
   "source": [
    "#making a csv file for the added columns\n",
    "census_2019.to_csv(\"output_census/census_comb_2019.csv\", encoding=\"utf-8\", index=False)"
   ]
  },
  {
   "cell_type": "code",
   "execution_count": 25,
   "id": "d3d6a66e",
   "metadata": {},
   "outputs": [],
   "source": [
    "#reading 2019 combined census data\n",
    "path_comb_2019=os.path.join('output_census', 'census_comb_2019.csv')\n",
    "census_comb_2019=pd.read_csv(path_comb_2019)"
   ]
  },
  {
   "cell_type": "code",
   "execution_count": 26,
   "id": "72c46399",
   "metadata": {},
   "outputs": [],
   "source": [
    "#creating census data for california only\n",
    "census_ca_2019=census_comb_2019[census_comb_2019['State']=='CA']\n",
    "#making a csv file for the CA census only\n",
    "census_ca_2019.to_csv(\"output_census/census_ca_2019.csv\", encoding=\"utf-8\", index=False)"
   ]
  },
  {
   "cell_type": "code",
   "execution_count": null,
   "id": "caf0f1c9",
   "metadata": {},
   "outputs": [],
   "source": []
  }
 ],
 "metadata": {
  "kernelspec": {
   "display_name": "Python 3",
   "language": "python",
   "name": "python3"
  },
  "language_info": {
   "codemirror_mode": {
    "name": "ipython",
    "version": 3
   },
   "file_extension": ".py",
   "mimetype": "text/x-python",
   "name": "python",
   "nbconvert_exporter": "python",
   "pygments_lexer": "ipython3",
   "version": "3.6.13"
  }
 },
 "nbformat": 4,
 "nbformat_minor": 5
}
